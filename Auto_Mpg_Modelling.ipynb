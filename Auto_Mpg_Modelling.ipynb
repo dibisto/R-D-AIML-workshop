{
  "nbformat": 4,
  "nbformat_minor": 0,
  "metadata": {
    "colab": {
      "name": "Auto_Mpg_Modelling.ipynb",
      "provenance": [],
      "authorship_tag": "ABX9TyODYlurX3J1AVK6DC+xLYXr",
      "include_colab_link": true
    },
    "kernelspec": {
      "name": "python3",
      "display_name": "Python 3"
    },
    "language_info": {
      "name": "python"
    }
  },
  "cells": [
    {
      "cell_type": "markdown",
      "metadata": {
        "id": "view-in-github",
        "colab_type": "text"
      },
      "source": [
        "<a href=\"https://colab.research.google.com/github/surajkonline/R-D-AIML-workshop/blob/main/Auto_Mpg_Modelling.ipynb\" target=\"_parent\"><img src=\"https://colab.research.google.com/assets/colab-badge.svg\" alt=\"Open In Colab\"/></a>"
      ]
    },
    {
      "cell_type": "code",
      "execution_count": null,
      "metadata": {
        "id": "cNxojn-owIob"
      },
      "outputs": [],
      "source": [
        "# Importing numpy, pandas & matplotlib packages\n",
        "import numpy as np\n",
        "import pandas as pd\n",
        "import matplotlib.pyplot as plt\n",
        "%matplotlib inline\n",
        "import seaborn as sns"
      ]
    },
    {
      "cell_type": "code",
      "source": [
        "# Reading the dataframe\n",
        "df = pd.read_csv('https://raw.githubusercontent.com/surajkonline/R-D-AIML-workshop/surajkonline-Regression_auto_mpg/auto-mpg.csv') "
      ],
      "metadata": {
        "id": "ZgpBIWLcwRc-"
      },
      "execution_count": null,
      "outputs": []
    },
    {
      "cell_type": "code",
      "source": [
        "# Model buiding using SK learn\n",
        "from sklearn.linear_model import LinearRegression\n",
        "from sklearn import metrics\n",
        "from sklearn.model_selection import train_test_split\n",
        "from sklearn import preprocessing\n",
        "from sklearn.metrics import r2_score"
      ],
      "metadata": {
        "id": "A51LaGdFsXFM"
      },
      "execution_count": null,
      "outputs": []
    },
    {
      "cell_type": "code",
      "source": [
        "# Removing \"?\" from horsepower & converting it from object to numeric\n",
        "df = df.drop(df[df.horsepower ==\"?\"].index)\n",
        "df['horsepower']=pd.to_numeric(df['horsepower'])"
      ],
      "metadata": {
        "id": "4wueLUyHD2X6"
      },
      "execution_count": null,
      "outputs": []
    },
    {
      "cell_type": "code",
      "source": [
        "df.drop(['car name'],axis=1, inplace=True)"
      ],
      "metadata": {
        "id": "tde8JgfzZ4Dg"
      },
      "execution_count": null,
      "outputs": []
    },
    {
      "cell_type": "code",
      "source": [
        "X = df['weight'].values.reshape(-1,1)\n",
        "y = df['mpg'].values.reshape(-1,1)"
      ],
      "metadata": {
        "id": "MTD9-V2vxETl"
      },
      "execution_count": null,
      "outputs": []
    },
    {
      "cell_type": "code",
      "source": [
        "sns.lmplot(x = \"weight\", y = 'mpg' , data = df, order=2);"
      ],
      "metadata": {
        "id": "AJZuytrBxwpp"
      },
      "execution_count": null,
      "outputs": []
    },
    {
      "cell_type": "code",
      "source": [
        "# Splitting data into training & test set\n",
        "X_train, X_test, y_train, y_test = train_test_split(X, y, test_size=0.3, random_state=42)"
      ],
      "metadata": {
        "id": "WtH5AwgFxLLm"
      },
      "execution_count": null,
      "outputs": []
    },
    {
      "cell_type": "code",
      "source": [
        "lr=LinearRegression()\n",
        "lr.fit(X_train,y_train)"
      ],
      "metadata": {
        "colab": {
          "base_uri": "https://localhost:8080/"
        },
        "id": "NZD2fgT2xNsB",
        "outputId": "e80a36f6-b1e7-4246-eedb-b0bccc3a9d08"
      },
      "execution_count": null,
      "outputs": [
        {
          "output_type": "execute_result",
          "data": {
            "text/plain": [
              "LinearRegression()"
            ]
          },
          "metadata": {},
          "execution_count": 12
        }
      ]
    },
    {
      "cell_type": "code",
      "source": [
        "#To retrieve the intercept:\n",
        "print(lr.intercept_)\n",
        "\n",
        "#For retrieving the slope:\n",
        "print(lr.coef_)"
      ],
      "metadata": {
        "id": "Xnzswe6rxSP2"
      },
      "execution_count": null,
      "outputs": []
    },
    {
      "cell_type": "code",
      "source": [
        "# Check model prediction on test data\n",
        "y_pred =lr.predict(X_test)"
      ],
      "metadata": {
        "id": "s4cDDDeJxaUQ"
      },
      "execution_count": null,
      "outputs": []
    },
    {
      "cell_type": "code",
      "source": [
        "# Visualize the fitted regression line\n",
        "plt.scatter(X,y, color='gray')\n",
        "plt.plot(X_test, y_pred, color='red', linewidth=2)\n",
        "plt.title('MPG Regression Model')\n",
        "plt.xlabel('Weight')\n",
        "plt.ylabel('Total MPG')\n",
        "plt.show()"
      ],
      "metadata": {
        "id": "oBMMuOksxeAT"
      },
      "execution_count": null,
      "outputs": []
    },
    {
      "cell_type": "code",
      "source": [
        "# Model performance \n",
        "print('R square on training data: {}'.format(round(lr.score(X_train,y_train),2)))\n",
        "print('R square on test data: {}'.format(round(lr.score(X_test,y_test),2)))\n",
        "print('Mean Absolute Error:', metrics.mean_absolute_error(y_test, y_pred)) \n",
        "print('Mean Squared Error:', metrics.mean_squared_error(y_test, y_pred))  \n",
        "print('Root Mean Squared Error:', np.sqrt(metrics.mean_squared_error(y_test, y_pred)))"
      ],
      "metadata": {
        "id": "1Fdn2mlTxlUu"
      },
      "execution_count": null,
      "outputs": []
    },
    {
      "cell_type": "code",
      "source": [
        "# Transforming data columns with high kurtosis \n",
        "features=df.columns.tolist()\n",
        "for feature in features:\n",
        "    print(f'{feature} Skewness: {df[feature].skew():.2f}, Kurtosis: {df[feature].kurtosis():.2f}')"
      ],
      "metadata": {
        "id": "rKaHX9ESZZok"
      },
      "execution_count": null,
      "outputs": []
    },
    {
      "cell_type": "code",
      "source": [
        "skew_cols=['cylinders','displacement','horsepower','weight']\n",
        "df[skew_cols]=np.log1p(df[skew_cols])\n",
        "for feature in features:\n",
        "    print(f'{feature} skewness: {df[feature].skew():.2f}, Kurtosis: {df[feature].kurtosis():.2f}')"
      ],
      "metadata": {
        "id": "oMmWTATwbJyJ"
      },
      "execution_count": null,
      "outputs": []
    },
    {
      "cell_type": "code",
      "source": [
        "#Dropping \"mpg\" for X\n",
        "X= df.drop('mpg', axis=1)"
      ],
      "metadata": {
        "id": "GsddB4gictxB"
      },
      "execution_count": null,
      "outputs": []
    },
    {
      "cell_type": "markdown",
      "source": [
        ""
      ],
      "metadata": {
        "id": "Z_uOtIzJEhs1"
      }
    },
    {
      "cell_type": "code",
      "source": [
        "# Scaling all X\n",
        "X_scaled = preprocessing.scale(X)"
      ],
      "metadata": {
        "id": "glG9XGpshEUU"
      },
      "execution_count": null,
      "outputs": []
    },
    {
      "cell_type": "code",
      "source": [
        "# Converting scaled X as Pandas Dataframe\n",
        "X_scaled = pd.DataFrame(X_scaled,columns=X.columns)"
      ],
      "metadata": {
        "id": "shPr-M9XhI4Y"
      },
      "execution_count": null,
      "outputs": []
    },
    {
      "cell_type": "code",
      "source": [
        "# split our data into training and testing data\n",
        "X_train,X_test,y_train,y_test = train_test_split(X_scaled,y,test_size=.3,random_state=0)\n",
        "\n",
        "model = LinearRegression()  # initialize the LinearRegression model\n",
        "model.fit(X_train,y_train)  # we fit the model with the training data\n",
        "\n",
        "linear_pred = model.predict(X_test)  # make prediction with the fitted model\n",
        "\n",
        "# score the model on the train set\n",
        "print('Train score: {}\\n'.format(model.score(X_train,y_train)))\n",
        "# score the model on the test set\n",
        "print('Test score: {}\\n'.format(model.score(X_test,y_test)))\n",
        "# calculate the overall accuracy of the model\n",
        "print('Overall model accuracy: {}\\n'.format(r2_score(y_test,linear_pred)))"
      ],
      "metadata": {
        "id": "uGhJ_oIdhNfC"
      },
      "execution_count": null,
      "outputs": []
    }
  ]
}