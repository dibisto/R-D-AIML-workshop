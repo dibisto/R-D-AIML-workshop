{
  "nbformat": 4,
  "nbformat_minor": 0,
  "metadata": {
    "colab": {
      "name": "Customer data aggregation v2.ipynb",
      "provenance": [],
      "collapsed_sections": [],
      "authorship_tag": "ABX9TyOemrXp/FId8vnapQIyT3zT",
      "include_colab_link": true
    },
    "kernelspec": {
      "name": "python3",
      "display_name": "Python 3"
    },
    "language_info": {
      "name": "python"
    }
  },
  "cells": [
    {
      "cell_type": "markdown",
      "metadata": {
        "id": "view-in-github",
        "colab_type": "text"
      },
      "source": [
        "<a href=\"https://colab.research.google.com/github/surajkonline/R-D-AIML-workshop/blob/main/Customer%20data%20aggregation%20v2.ipynb\" target=\"_parent\"><img src=\"https://colab.research.google.com/assets/colab-badge.svg\" alt=\"Open In Colab\"/></a>"
      ]
    },
    {
      "cell_type": "code",
      "execution_count": 10,
      "metadata": {
        "id": "dVTmX-3EFlMD"
      },
      "outputs": [],
      "source": [
        "#@title\n",
        "import numpy as np\n",
        "import pandas as pd\n"
      ]
    },
    {
      "cell_type": "code",
      "source": [
        "# For unzipping \n",
        "from zipfile import ZipFile\n",
        "file_name = '/content/12. December 2021.zip'#Check the zipped file path from \"Copy path\"\n",
        "with ZipFile(file_name, 'r') as zip:\n",
        "  zip.extractall()\n",
        "  print('Done')"
      ],
      "metadata": {
        "colab": {
          "base_uri": "https://localhost:8080/"
        },
        "id": "-B9pfSSvF4NN",
        "outputId": "3f589f37-9459-4185-f42f-e2581d116d89"
      },
      "execution_count": 11,
      "outputs": [
        {
          "output_type": "stream",
          "name": "stdout",
          "text": [
            "Done\n"
          ]
        }
      ]
    },
    {
      "cell_type": "code",
      "source": [
        "df10= pd.read_excel(\"/content/df10.xlsx\", index_col=0) # Load the old excel file , df10 in this case\n",
        "print('Done')"
      ],
      "metadata": {
        "id": "4QU8Jhk3wxHG",
        "colab": {
          "base_uri": "https://localhost:8080/"
        },
        "outputId": "51ac3930-3eeb-4a26-b4bd-06db6d5dfd54"
      },
      "execution_count": 12,
      "outputs": [
        {
          "output_type": "stream",
          "name": "stdout",
          "text": [
            "Done\n"
          ]
        }
      ]
    },
    {
      "cell_type": "code",
      "source": [
        "df10"
      ],
      "metadata": {
        "id": "hRlcHv97gZmp"
      },
      "execution_count": null,
      "outputs": []
    },
    {
      "cell_type": "code",
      "source": [
        "# Upload three fies CMT, IPI, WD for the date which you want to add\n",
        "df1= pd.read_csv(\"/content/12. December 2021/11122021/CMT.csv\")\n",
        "df2= pd.read_csv(\"/content/12. December 2021/11122021/IPI.csv\")\n",
        "df3= pd.read_csv(\"/content/12. December 2021/11122021/WD CUT.csv\")\n",
        "print('Done')"
      ],
      "metadata": {
        "id": "21vIxZPjGofd",
        "colab": {
          "base_uri": "https://localhost:8080/"
        },
        "outputId": "fd23acbf-00b4-4f78-9dea-171f24277fbc"
      },
      "execution_count": null,
      "outputs": [
        {
          "output_type": "stream",
          "name": "stdout",
          "text": [
            "Done\n"
          ]
        }
      ]
    },
    {
      "cell_type": "code",
      "source": [
        "#@title\n",
        "df2.drop(df2.iloc[:, 0:11], inplace = True, axis = 1)\n",
        "df2.drop(df2.columns[[1,2,3,6,7,10,11,13,15]], axis = 1, inplace = True)\n",
        "df3.drop(df3.iloc[:, 0:9], inplace = True, axis = 1)\n",
        "df3.drop(df3.iloc[:, 1:6], inplace = True, axis = 1)\n",
        "df3.drop(df3.iloc[:, 14:22], inplace = True, axis = 1)\n",
        "df = pd.concat([df1, df2,df3], axis=1)\n",
        "first_column = df.pop('Clearer Type')\n",
        "df.insert(9,'Clearer Type', first_column)\n",
        "print('Done')"
      ],
      "metadata": {
        "id": "OEy1BEGKIKsa",
        "outputId": "70e5a535-7c60-4bcd-887c-d4fab2966410",
        "colab": {
          "base_uri": "https://localhost:8080/"
        }
      },
      "execution_count": null,
      "outputs": [
        {
          "output_type": "stream",
          "name": "stdout",
          "text": [
            "Done\n"
          ]
        }
      ]
    },
    {
      "cell_type": "code",
      "source": [
        "df11 = pd.concat([df10, df])# If you are adding 11th day name it df11\n",
        "# Add all days one by one"
      ],
      "metadata": {
        "id": "pIwXU-MZvgaK"
      },
      "execution_count": null,
      "outputs": []
    },
    {
      "cell_type": "code",
      "source": [
        "df11"
      ],
      "metadata": {
        "id": "wezcMCOUgnLm"
      },
      "execution_count": null,
      "outputs": []
    },
    {
      "cell_type": "code",
      "source": [
        "pip install openpyxl"
      ],
      "metadata": {
        "colab": {
          "base_uri": "https://localhost:8080/"
        },
        "id": "W2Dt1tENOuqX",
        "outputId": "4884b522-3b0a-4a61-973f-5ff86f358d9e",
        "collapsed": true
      },
      "execution_count": 16,
      "outputs": [
        {
          "output_type": "stream",
          "name": "stdout",
          "text": [
            "Requirement already satisfied: openpyxl in /usr/local/lib/python3.7/dist-packages (2.5.9)\n",
            "Requirement already satisfied: jdcal in /usr/local/lib/python3.7/dist-packages (from openpyxl) (1.4.1)\n",
            "Requirement already satisfied: et-xmlfile in /usr/local/lib/python3.7/dist-packages (from openpyxl) (1.1.0)\n"
          ]
        }
      ]
    },
    {
      "cell_type": "code",
      "source": [
        "# To print new excel file \n",
        "writer = pd.ExcelWriter('df11.xlsx') # Name the file you want\n",
        "df11.to_excel(writer, sheet_name= \"Sheet1\") # Use the same name as above \n",
        "writer.save()\n",
        "print('DataFrame is written successfully to Excel File.')"
      ],
      "metadata": {
        "colab": {
          "base_uri": "https://localhost:8080/"
        },
        "id": "85ErXn-5Ok6Q",
        "outputId": "74d8fc74-af6a-4155-dd5e-1222c121f59b"
      },
      "execution_count": 18,
      "outputs": [
        {
          "output_type": "stream",
          "name": "stdout",
          "text": [
            "DataFrame is written successfully to Excel File.\n"
          ]
        }
      ]
    }
  ]
}