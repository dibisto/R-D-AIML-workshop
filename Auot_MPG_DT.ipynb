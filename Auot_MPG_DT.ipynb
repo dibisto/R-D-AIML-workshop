{
  "nbformat": 4,
  "nbformat_minor": 0,
  "metadata": {
    "colab": {
      "name": "Auot-MPG_DT.ipynb",
      "provenance": [],
      "collapsed_sections": [],
      "authorship_tag": "ABX9TyNaILK0G/i6F9gml3vHn8/+",
      "include_colab_link": true
    },
    "kernelspec": {
      "name": "python3",
      "display_name": "Python 3"
    },
    "language_info": {
      "name": "python"
    }
  },
  "cells": [
    {
      "cell_type": "markdown",
      "metadata": {
        "id": "view-in-github",
        "colab_type": "text"
      },
      "source": [
        "<a href=\"https://colab.research.google.com/github/surajkonline/R-D-AIML-workshop/blob/main/Auot_MPG_DT.ipynb\" target=\"_parent\"><img src=\"https://colab.research.google.com/assets/colab-badge.svg\" alt=\"Open In Colab\"/></a>"
      ]
    },
    {
      "cell_type": "code",
      "execution_count": null,
      "metadata": {
        "id": "II-fyeEhYUdj"
      },
      "outputs": [],
      "source": [
        "# Importing numpy, pandas & matplotlib packages\n",
        "import numpy as np\n",
        "import pandas as pd\n",
        "import matplotlib.pyplot as plt\n",
        "%matplotlib inline\n",
        "import seaborn as sns"
      ]
    },
    {
      "cell_type": "code",
      "source": [
        "# Reading the dataframe\n",
        "df = pd.read_csv('https://raw.githubusercontent.com/surajkonline/R-D-AIML-workshop/surajkonline-Regression_auto_mpg/auto-mpg.csv') "
      ],
      "metadata": {
        "id": "mY3eV3OJYc2h"
      },
      "execution_count": null,
      "outputs": []
    },
    {
      "cell_type": "code",
      "source": [
        "# Removing \"?\" from horsepower & converting it from object to numeric\n",
        "df = df.drop(df[df.horsepower ==\"?\"].index)\n",
        "df['horsepower']=pd.to_numeric(df['horsepower'])"
      ],
      "metadata": {
        "id": "Q-3qUdLwYkA3"
      },
      "execution_count": null,
      "outputs": []
    },
    {
      "cell_type": "code",
      "source": [
        "df.info()"
      ],
      "metadata": {
        "id": "r_mM2hEQ-Dgl"
      },
      "execution_count": null,
      "outputs": []
    },
    {
      "cell_type": "code",
      "source": [
        "# Dropping car name as we don't intend it to keep in the model\n",
        "df.drop(['car name','origin', 'model year'],axis=1, inplace=True)"
      ],
      "metadata": {
        "id": "iBxzjMdZw4lj"
      },
      "execution_count": null,
      "outputs": []
    },
    {
      "cell_type": "code",
      "source": [
        "df"
      ],
      "metadata": {
        "id": "l7qO6T_pBMH9"
      },
      "execution_count": null,
      "outputs": []
    },
    {
      "cell_type": "code",
      "source": [
        "sns.histplot(data=df, x=\"mpg\");"
      ],
      "metadata": {
        "id": "qq4PgPQ8vbmR"
      },
      "execution_count": null,
      "outputs": []
    },
    {
      "cell_type": "code",
      "source": [
        "# Converting mpg into three categories \"Low\", \"Medium\" & \"high\"\n",
        "df['mpg'] = pd.qcut(df['mpg'], 3, labels=[\"Low\", \"Medium\", \"High\"])"
      ],
      "metadata": {
        "id": "NQni6rKmk83y"
      },
      "execution_count": null,
      "outputs": []
    },
    {
      "cell_type": "code",
      "source": [
        "# Checking the mpg distribution\n",
        "sns.histplot(data=df, x=\"mpg\");"
      ],
      "metadata": {
        "id": "63TrkS5ts0qP"
      },
      "execution_count": null,
      "outputs": []
    },
    {
      "cell_type": "code",
      "source": [
        "colors = ['red', 'blue', 'green']\n",
        "sns.pairplot(df,palette=sns.xkcd_palette(colors),hue= \"mpg\", corner=True)\n",
        "plt.show()"
      ],
      "metadata": {
        "id": "Csz_p-_hhmpW"
      },
      "execution_count": null,
      "outputs": []
    },
    {
      "cell_type": "code",
      "source": [
        "# Naming columns\n",
        "col_names = ['cylinders',\t'displacement',\t'horsepower','weight',\t'acceleration']\n",
        "col_names"
      ],
      "metadata": {
        "colab": {
          "base_uri": "https://localhost:8080/"
        },
        "id": "80HIskgk2F59",
        "outputId": "b297e4ce-106b-41f5-f5eb-933d8460d209"
      },
      "execution_count": null,
      "outputs": [
        {
          "output_type": "execute_result",
          "data": {
            "text/plain": [
              "['cylinders', 'displacement', 'horsepower', 'weight', 'acceleration']"
            ]
          },
          "metadata": {},
          "execution_count": 19
        }
      ]
    },
    {
      "cell_type": "code",
      "source": [
        "#X = df.drop(['mpg'], axis=1)\n",
        "X=df[col_names]\n",
        "y = df['mpg']"
      ],
      "metadata": {
        "id": "EIrQ9uFiYl9i"
      },
      "execution_count": null,
      "outputs": []
    },
    {
      "cell_type": "code",
      "source": [
        "X"
      ],
      "metadata": {
        "id": "PvyWwM51sBsr"
      },
      "execution_count": null,
      "outputs": []
    },
    {
      "cell_type": "code",
      "source": [
        "from sklearn.tree import DecisionTreeClassifier\n",
        "from sklearn import metrics\n",
        "from sklearn.metrics import accuracy_score, f1_score, precision_score, confusion_matrix # Model validation score\n",
        "from sklearn.feature_extraction.text import CountVectorizer\n",
        "from sklearn.model_selection import train_test_split # Import train_test_split function\n",
        "from sklearn import metrics #Import scikit-learn metrics module for accuracy calculation\n",
        "from sklearn.tree import DecisionTreeClassifier\n",
        "from sklearn.metrics import classification_report\n",
        "from sklearn.metrics import plot_confusion_matrix\n",
        "from sklearn.metrics import f1_score"
      ],
      "metadata": {
        "id": "BzapcM9Mutkl"
      },
      "execution_count": null,
      "outputs": []
    },
    {
      "cell_type": "code",
      "source": [
        "# For stratifid splitting of train and test data\n",
        "X_train, X_test, y_train, y_test = train_test_split(X, y, test_size=0.3, stratify=y) # 70% training and 30% test"
      ],
      "metadata": {
        "id": "FIo4OYVgzOpZ"
      },
      "execution_count": null,
      "outputs": []
    },
    {
      "cell_type": "code",
      "source": [
        "# Fitting the decision tree classifier\n",
        "clf = DecisionTreeClassifier(max_depth=3, random_state=42)\n",
        "clf.fit(X_train, y_train)"
      ],
      "metadata": {
        "colab": {
          "base_uri": "https://localhost:8080/"
        },
        "id": "xsIiy-fWuneB",
        "outputId": "1879d3ae-353a-4549-9810-4bee253cc89d"
      },
      "execution_count": null,
      "outputs": [
        {
          "output_type": "execute_result",
          "data": {
            "text/plain": [
              "DecisionTreeClassifier(max_depth=3, random_state=42)"
            ]
          },
          "metadata": {},
          "execution_count": 57
        }
      ]
    },
    {
      "cell_type": "code",
      "source": [
        "#predicting on test dataset\n",
        "y_pred_test = clf.predict(X_test)\n",
        "y_pred_train= clf.predict(X_train)"
      ],
      "metadata": {
        "id": "JXeTYN5DzZHW"
      },
      "execution_count": null,
      "outputs": []
    },
    {
      "cell_type": "code",
      "source": [
        "# Model performance \n",
        "print ('\\033[1m''Accuracy Score of Training data is:',accuracy_score(y_train, y_pred_train))\n",
        "print('\\033[1m''Accuracy Score of Test data is:',accuracy_score(y_test, y_pred_test))\n",
        "print('Classification report is: \\n',classification_report(y_test, y_pred_test))\n",
        "pd.crosstab(y_test, y_pred_test, rownames= ['True'],colnames=['Predicted'], margins=True)"
      ],
      "metadata": {
        "id": "O6uw32PhzaxR"
      },
      "execution_count": null,
      "outputs": []
    },
    {
      "cell_type": "code",
      "source": [
        "from sklearn import tree\n",
        "fig = plt.figure(figsize=(50,20))\n",
        "_ = tree.plot_tree(clf,\n",
        "feature_names=col_names,class_names=[\"Low\",\"Medium\", \"High\"],\n",
        "filled=True)\n"
      ],
      "metadata": {
        "id": "ALIffBFp0XnZ"
      },
      "execution_count": null,
      "outputs": []
    },
    {
      "cell_type": "code",
      "source": [
        "j=1\n",
        "train=[]\n",
        "test=[]\n",
        "while j<15:\n",
        "  X_train, X_test, y_train,y_test= train_test_split(X,y, stratify=y, test_size=0.3)\n",
        "  model= DecisionTreeClassifier(max_depth=j)\n",
        "  model.fit(X_train, y_train)\n",
        "  RF_training_labels= model.predict(X_train)\n",
        "  RF_testing_labels= model.predict (X_test)\n",
        "  train.append(accuracy_score(y_train, RF_training_labels))\n",
        "  test.append(accuracy_score(y_test, RF_testing_labels))\n",
        "  j= j+1\n",
        "  accuracy_frame= pd.DataFrame ({\"train\": train, \"test\": test})\n",
        "  accuracy_frame.index= np.arange (1, len(accuracy_frame)+1)\n",
        "(accuracy_frame,accuracy_frame.plot.line(title= \"Train vs Test vs Depth\"))\n",
        "plt.ylabel('Model Accuracy')\n",
        "plt.xlabel('Tree depth')\n",
        "plt.show()\n",
        "accuracy_frame"
      ],
      "metadata": {
        "id": "YoGdRr-o0qer"
      },
      "execution_count": null,
      "outputs": []
    },
    {
      "cell_type": "code",
      "source": [
        "# To see Decision tree in text form ##\n",
        "from sklearn.tree import export_text\n",
        "r = export_text(clf, feature_names=col_names)\n",
        "print(r)"
      ],
      "metadata": {
        "id": "HC8stowW3Gsf"
      },
      "execution_count": null,
      "outputs": []
    }
  ]
}