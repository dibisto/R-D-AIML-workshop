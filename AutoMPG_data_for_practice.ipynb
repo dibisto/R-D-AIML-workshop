{
  "nbformat": 4,
  "nbformat_minor": 0,
  "metadata": {
    "colab": {
      "name": "AutoMPG data for practice.ipynb",
      "provenance": [],
      "authorship_tag": "ABX9TyO5Jnqd6Et4BC9yKJ2KW7Ze",
      "include_colab_link": true
    },
    "kernelspec": {
      "name": "python3",
      "display_name": "Python 3"
    },
    "language_info": {
      "name": "python"
    }
  },
  "cells": [
    {
      "cell_type": "markdown",
      "metadata": {
        "id": "view-in-github",
        "colab_type": "text"
      },
      "source": [
        "<a href=\"https://colab.research.google.com/github/surajkonline/R-D-AIML-workshop/blob/surajkonline-Regression_auto_mpg/AutoMPG_data_for_practice.ipynb\" target=\"_parent\"><img src=\"https://colab.research.google.com/assets/colab-badge.svg\" alt=\"Open In Colab\"/></a>"
      ]
    },
    {
      "cell_type": "code",
      "execution_count": 1,
      "metadata": {
        "id": "yl1J26wIoZJi"
      },
      "outputs": [],
      "source": [
        "# Importing numpy, pandas & matplotlib packages\n",
        "import numpy as np\n",
        "import pandas as pd\n",
        "import matplotlib.pyplot as plt\n",
        "%matplotlib inline\n",
        "import seaborn as sns"
      ]
    },
    {
      "cell_type": "code",
      "source": [
        "# Reading the dataframe\n",
        "df = pd.read_csv('https://raw.githubusercontent.com/surajkonline/R-D-AIML-workshop/surajkonline-Regression_auto_mpg/auto-mpg.csv') "
      ],
      "metadata": {
        "id": "abHHooL3pQCV"
      },
      "execution_count": 2,
      "outputs": []
    },
    {
      "cell_type": "code",
      "source": [
        "# Examining top five rows of dataframe\n",
        "df.head()"
      ],
      "metadata": {
        "id": "yUVKKG4m41xn"
      },
      "execution_count": null,
      "outputs": []
    },
    {
      "cell_type": "code",
      "source": [
        "# Datatypes/missing values in datafram\n",
        "df.info()"
      ],
      "metadata": {
        "id": "qjucByRpVSM9"
      },
      "execution_count": null,
      "outputs": []
    },
    {
      "cell_type": "code",
      "source": [
        "# To see number of unique values in each column\n",
        "df.nunique()"
      ],
      "metadata": {
        "id": "mUdRna1gY_to"
      },
      "execution_count": null,
      "outputs": []
    },
    {
      "cell_type": "code",
      "source": [
        "# to see the unique vaues in each column\n",
        "for col in df:\n",
        "    print(df[col].name)\n",
        "    print(df[col].unique())"
      ],
      "metadata": {
        "id": "xZN7WN5OVXcH"
      },
      "execution_count": null,
      "outputs": []
    },
    {
      "cell_type": "code",
      "source": [
        "# to replace the ? values in horsepower\n",
        "df['horsepower'] = df['horsepower'].replace('?', np.NaN).astype('float64')"
      ],
      "metadata": {
        "id": "TUBjMmYs3Dnf"
      },
      "execution_count": 7,
      "outputs": []
    },
    {
      "cell_type": "code",
      "source": [
        "# to change the origin from 1, 2 & 3 to US/Asian/European\n",
        "df['origin']=df.origin.map({1: 'US', 2: 'Asian',3:'European'})"
      ],
      "metadata": {
        "id": "koXP1mpPKBjw"
      },
      "execution_count": 8,
      "outputs": []
    },
    {
      "cell_type": "code",
      "source": [
        "# Check whether above changes\n",
        "df.info()"
      ],
      "metadata": {
        "id": "-I7SyOFv3bQH"
      },
      "execution_count": null,
      "outputs": []
    },
    {
      "cell_type": "code",
      "source": [
        "# To understand the descriptive statistics\n",
        "df.describe().round(1)"
      ],
      "metadata": {
        "id": "sRL1cnywVf2H"
      },
      "execution_count": null,
      "outputs": []
    },
    {
      "cell_type": "code",
      "source": [
        "# To plot histograms to check distribution\n",
        "df.hist(figsize= (15,6), layout= (2,4));"
      ],
      "metadata": {
        "id": "H8ZcGanyVw1s"
      },
      "execution_count": null,
      "outputs": []
    },
    {
      "cell_type": "code",
      "source": [
        "# To plot box-plots to see the outlier/ skew in the distribution\n",
        "df.plot(kind='box', subplots=True, layout= (2,4), figsize= (15,6));"
      ],
      "metadata": {
        "id": "_e37uSlbbFFk"
      },
      "execution_count": null,
      "outputs": []
    },
    {
      "cell_type": "code",
      "source": [
        "# To check counts of cars origin-wise\n",
        "df['origin'].value_counts(normalize=False).round(2)"
      ],
      "metadata": {
        "id": "k-XwAkWyLED0"
      },
      "execution_count": null,
      "outputs": []
    },
    {
      "cell_type": "code",
      "source": [
        "# To plot bar chart of cars cylinder wise\n",
        "df['cylinders'].value_counts(normalize=False).round(2).plot(kind='bar');"
      ],
      "metadata": {
        "id": "2PfHxDo6Grsj"
      },
      "execution_count": null,
      "outputs": []
    },
    {
      "cell_type": "code",
      "source": [
        "df['origin'].value_counts(normalize=False).round(2).plot(kind='bar');"
      ],
      "metadata": {
        "id": "Xlg0WypdPEaG"
      },
      "execution_count": null,
      "outputs": []
    },
    {
      "cell_type": "code",
      "source": [
        "# To plot box-plots of mpg/origin-wise\n",
        "fig, ax = plt.subplots(figsize=(8, 6))\n",
        "fig = sns.boxplot(x='origin', y=\"mpg\", data=df)"
      ],
      "metadata": {
        "id": "-K1AfXC5Lk25"
      },
      "execution_count": null,
      "outputs": []
    },
    {
      "cell_type": "code",
      "source": [
        "# Is mpg improving year after year.\n",
        "sns.scatterplot(x = \"model year\", y = 'mpg' , data = df);"
      ],
      "metadata": {
        "id": "Y2zJGDGMR_aZ"
      },
      "execution_count": null,
      "outputs": []
    },
    {
      "cell_type": "code",
      "source": [
        "#To see all scatter plots ar same time\n",
        "sns.pairplot(df, corner= True );"
      ],
      "metadata": {
        "id": "oYsAM2xHekLt"
      },
      "execution_count": null,
      "outputs": []
    },
    {
      "cell_type": "code",
      "source": [
        "# To see correlation between target & predictors as well as between predictors\n",
        "sns.heatmap(df.corr(),linewidths=0.25, vmax=1.0, cmap='coolwarm',annot=True);"
      ],
      "metadata": {
        "id": "S1VqA51Ifh16"
      },
      "execution_count": null,
      "outputs": []
    },
    {
      "cell_type": "code",
      "source": [
        "pip install missingno --quiet"
      ],
      "metadata": {
        "id": "jmykAxbXOvqY"
      },
      "execution_count": 32,
      "outputs": []
    },
    {
      "cell_type": "code",
      "source": [
        "import missingno as msno\n",
        "msno.matrix(df);"
      ],
      "metadata": {
        "id": "VZrfSTAZO5TW"
      },
      "execution_count": null,
      "outputs": []
    },
    {
      "cell_type": "code",
      "source": [
        "pip install https://github.com/pandas-profiling/pandas-profiling/archive/master.zip --quiet"
      ],
      "metadata": {
        "id": "XhYkTChF6bh7"
      },
      "execution_count": null,
      "outputs": []
    },
    {
      "cell_type": "code",
      "source": [
        "import pandas_profiling as pp"
      ],
      "metadata": {
        "id": "wlJGjDTw7LA1"
      },
      "execution_count": 35,
      "outputs": []
    },
    {
      "cell_type": "code",
      "source": [
        "pp.ProfileReport(df)"
      ],
      "metadata": {
        "id": "URR9zVrm8CKz"
      },
      "execution_count": null,
      "outputs": []
    },
    {
      "cell_type": "code",
      "execution_count": 39,
      "metadata": {
        "scrolled": true,
        "id": "KNNdpJoqBLHR"
      },
      "outputs": [],
      "source": [
        "# Saving profile report\n",
        "profile_report = df.profile_report(html={\"style\": {\"full_width\": True}})"
      ]
    },
    {
      "cell_type": "code",
      "source": [
        "# Printing profie report\n",
        "profile_report.to_file(\"/content/example.html\")"
      ],
      "metadata": {
        "id": "P-xSkNHmSkGm"
      },
      "execution_count": null,
      "outputs": []
    },
    {
      "cell_type": "code",
      "source": [
        "sns.lmplot(x = \"weight\", y = 'mpg' , data = df, order=1);"
      ],
      "metadata": {
        "id": "OLSoo7gOVhK5"
      },
      "execution_count": null,
      "outputs": []
    },
    {
      "cell_type": "code",
      "source": [
        "# Model buiding using SK learn\n",
        "from sklearn.linear_model import LinearRegression\n",
        "from sklearn import metrics\n",
        "from sklearn.model_selection import train_test_split\n",
        "from sklearn import preprocessing"
      ],
      "metadata": {
        "id": "EjBgkUxMU-RD"
      },
      "execution_count": 45,
      "outputs": []
    },
    {
      "cell_type": "code",
      "source": [
        "X = df['weight'].values.reshape(-1,1)\n",
        "y = df['mpg'].values.reshape(-1,1)"
      ],
      "metadata": {
        "id": "s5ZAn586MVRj"
      },
      "execution_count": 62,
      "outputs": []
    },
    {
      "cell_type": "code",
      "source": [
        "X_train, X_test, y_train, y_test = train_test_split(X, y, test_size=0.3, random_state=42)"
      ],
      "metadata": {
        "id": "uWsiH3pRSTnb"
      },
      "execution_count": 64,
      "outputs": []
    },
    {
      "cell_type": "code",
      "source": [
        "lr=LinearRegression()\n",
        "lr.fit(X_train,y_train)"
      ],
      "metadata": {
        "id": "iMP2Fe-9WbS5"
      },
      "execution_count": null,
      "outputs": []
    },
    {
      "cell_type": "code",
      "source": [
        "from logging import lastResort\n",
        "#To retrieve the intercept:\n",
        "print(lr.intercept_)\n",
        "\n",
        "#For retrieving the slope:\n",
        "print(lr.coef_)"
      ],
      "metadata": {
        "id": "3zcav24VYHwT"
      },
      "execution_count": null,
      "outputs": []
    },
    {
      "cell_type": "code",
      "source": [
        "y_pred =lr.predict(X_test)"
      ],
      "metadata": {
        "id": "QqPFxS_yY9EM"
      },
      "execution_count": 68,
      "outputs": []
    },
    {
      "cell_type": "code",
      "source": [
        "plt.scatter(X_test, y_test,  color='gray')\n",
        "plt.plot(X_test, y_pred, color='red', linewidth=2)\n",
        "plt.show()"
      ],
      "metadata": {
        "id": "3_OfZ8wCZDYg"
      },
      "execution_count": null,
      "outputs": []
    },
    {
      "cell_type": "code",
      "source": [
        "print('R square: {}'.format(round(lr.score(X_test,y_test),2)))\n",
        "print('Mean Absolute Error:', metrics.mean_absolute_error(y_test, y_pred))  \n",
        "print('Mean Squared Error:', metrics.mean_squared_error(y_test, y_pred))  \n",
        "print('Root Mean Squared Error:', np.sqrt(metrics.mean_squared_error(y_test, y_pred)))"
      ],
      "metadata": {
        "id": "UDUJeiFOZDWW",
        "outputId": "f78bfd73-9531-4573-a5d6-2e082813dac3",
        "colab": {
          "base_uri": "https://localhost:8080/"
        }
      },
      "execution_count": 75,
      "outputs": [
        {
          "output_type": "stream",
          "name": "stdout",
          "text": [
            "R square: 0.72\n",
            "Mean Absolute Error: 3.223974936798422\n",
            "Mean Squared Error: 15.821924228587429\n",
            "Root Mean Squared Error: 3.977678245985644\n"
          ]
        }
      ]
    }
  ]
}