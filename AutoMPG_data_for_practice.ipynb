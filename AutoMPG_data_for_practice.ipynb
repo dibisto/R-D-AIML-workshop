{
  "nbformat": 4,
  "nbformat_minor": 0,
  "metadata": {
    "colab": {
      "name": "AutoMPG data for practice.ipynb",
      "provenance": [],
      "authorship_tag": "ABX9TyPOi5zIg9cvsoiLj/Y84Lwv",
      "include_colab_link": true
    },
    "kernelspec": {
      "name": "python3",
      "display_name": "Python 3"
    },
    "language_info": {
      "name": "python"
    }
  },
  "cells": [
    {
      "cell_type": "markdown",
      "metadata": {
        "id": "view-in-github",
        "colab_type": "text"
      },
      "source": [
        "<a href=\"https://colab.research.google.com/github/surajkonline/R-D-AIML-workshop/blob/surajkonline-Regression_auto_mpg/AutoMPG_data_for_practice.ipynb\" target=\"_parent\"><img src=\"https://colab.research.google.com/assets/colab-badge.svg\" alt=\"Open In Colab\"/></a>"
      ]
    },
    {
      "cell_type": "code",
      "source": [
        "pip install https://github.com/pandas-profiling/pandas-profiling/archive/master.zip"
      ],
      "metadata": {
        "id": "XhYkTChF6bh7"
      },
      "execution_count": null,
      "outputs": []
    },
    {
      "cell_type": "code",
      "execution_count": null,
      "metadata": {
        "id": "yl1J26wIoZJi"
      },
      "outputs": [],
      "source": [
        "import numpy as np\n",
        "import pandas as pd\n",
        "import matplotlib.pyplot as plt"
      ]
    },
    {
      "cell_type": "code",
      "source": [
        "df = pd.read_csv('/content/auto-mpg.csv') "
      ],
      "metadata": {
        "id": "abHHooL3pQCV"
      },
      "execution_count": null,
      "outputs": []
    },
    {
      "cell_type": "code",
      "source": [
        "df.head()"
      ],
      "metadata": {
        "id": "yUVKKG4m41xn"
      },
      "execution_count": null,
      "outputs": []
    },
    {
      "cell_type": "code",
      "source": [
        "import pandas_profiling as pp"
      ],
      "metadata": {
        "id": "wlJGjDTw7LA1"
      },
      "execution_count": null,
      "outputs": []
    },
    {
      "cell_type": "code",
      "source": [
        "pp.ProfileReport(df)"
      ],
      "metadata": {
        "id": "URR9zVrm8CKz"
      },
      "execution_count": null,
      "outputs": []
    }
  ]
}